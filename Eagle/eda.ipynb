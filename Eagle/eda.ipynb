{
 "cells": [
  {
   "cell_type": "code",
   "execution_count": null,
   "metadata": {},
   "outputs": [],
   "source": [
    "%pip install tensorflow==2.4.1 tensorflow-gpu==2.4.1 tensorflow-io matplotlib"
   ]
  },
  {
   "cell_type": "code",
   "execution_count": 1,
   "metadata": {},
   "outputs": [],
   "source": [
    "import numpy as np\n",
    "import matplotlib.pyplot as plt\n",
    "import tensorflow as tf"
   ]
  },
  {
   "cell_type": "markdown",
   "metadata": {},
   "source": [
    "# Loading the Dataset"
   ]
  },
  {
   "cell_type": "code",
   "execution_count": 19,
   "metadata": {},
   "outputs": [],
   "source": [
    "def remove_nans(data):\n",
    "    spectrograms = data['x']\n",
    "    spectrograms[np.isinf(spectrograms)] = np.nan\n",
    "\n",
    "    for i in range(spectrograms.shape[0]):\n",
    "        sample = spectrograms[i, :, :]\n",
    "\n",
    "        mean_valid = np.nanmean(sample)\n",
    "        sample[np.isnan(sample)] = mean_valid if mean_valid != np.inf else 0 \n",
    "       \n",
    "        spectrograms[i, :, :] = sample\n",
    "    \n",
    "\n",
    "    return spectrograms\n",
    "    "
   ]
  },
  {
   "cell_type": "code",
   "execution_count": 20,
   "metadata": {},
   "outputs": [
    {
     "name": "stdout",
     "output_type": "stream",
     "text": [
      "0\n",
      "0\n",
      "0\n",
      "0\n",
      "0\n",
      "0\n",
      "(750, 1998, 101)\n",
      "65470.0\n"
     ]
    }
   ],
   "source": [
    "\n",
    "\n",
    "real_data = np.load('../../footprints/Footprints Datasets/real.npz')\n",
    "fake_data = np.load('../../footprints/Footprints Datasets/fake.npz')\n",
    "\n",
    "print(np.sum(np.isnan(real_data['x'])))\n",
    "\n",
    "print(np.sum(np.isnan(fake_data['x'])))\n",
    "\n",
    "real_data = remove_nans(real_data)\n",
    "fake_data = remove_nans(fake_data)\n",
    "\n",
    "print(np.sum(np.isinf(real_data)))\n",
    "print(np.sum(np.isinf(fake_data)))\n",
    "\n",
    "print(np.sum(np.isnan(real_data)))\n",
    "print(np.sum(np.isnan(fake_data)))\n",
    "\n",
    "print(real_data.shape)\n",
    "\n",
    "\n",
    "print(np.max(real_data))\n",
    "\n"
   ]
  },
  {
   "cell_type": "markdown",
   "metadata": {},
   "source": [
    "## Preprcoessing the Data\n",
    "- Put the Data all in one repo, with adding labels to them and preparing them in the shape of image for CNNs"
   ]
  },
  {
   "cell_type": "code",
   "execution_count": 21,
   "metadata": {},
   "outputs": [],
   "source": [
    "real_dataset = tf.data.Dataset.from_tensor_slices(real_data)\n",
    "fake_dataset = tf.data.Dataset.from_tensor_slices(fake_data)\n",
    "real_dataset = real_dataset.map(lambda x: tf.expand_dims(x, axis=-1))\n",
    "fake_dataset = fake_dataset.map(lambda x: tf.expand_dims(x, axis=-1))\n",
    "\n",
    "real_labels = tf.data.Dataset.from_tensor_slices(tf.ones((750,), dtype=tf.int32))\n",
    "\n",
    "fake_labels = tf.data.Dataset.from_tensor_slices(tf.zeros((750,), dtype=tf.int32))\n",
    "\n",
    "positives = tf.data.Dataset.zip((real_dataset, real_labels))\n",
    "negatives = tf.data.Dataset.zip((fake_dataset, fake_labels))\n",
    "\n",
    "# Concatenate the datasets\n",
    "combined_dataset = positives.concatenate(negatives)\n",
    "\n",
    "\n",
    "\n"
   ]
  },
  {
   "cell_type": "markdown",
   "metadata": {},
   "source": [
    "## Split the data into training and testing sets"
   ]
  },
  {
   "cell_type": "code",
   "execution_count": 22,
   "metadata": {},
   "outputs": [],
   "source": [
    "def preprocess_before_training(combined_dataset):\n",
    "    combined_dataset = combined_dataset.cache()\n",
    "    combined_dataset = combined_dataset.shuffle(buffer_size=1000)\n",
    "    combined_dataset = combined_dataset.batch(16)\n",
    "    combined_dataset = combined_dataset.prefetch(8)\n",
    "    return combined_dataset\n",
    "\n",
    "\n",
    "\n",
    "total_samples = 1500\n",
    "train_ratio = 0.8\n",
    "\n",
    "combined_dataset = combined_dataset.shuffle(buffer_size=1000)\n",
    "\n",
    "train_size = int(train_ratio * total_samples)\n",
    "test_size = total_samples - train_size\n",
    "\n",
    "train_dataset = combined_dataset.take(train_size)\n",
    "test_dataset = combined_dataset.skip(train_size).take(test_size)\n",
    "\n",
    "train_dataset = preprocess_before_training(train_dataset)\n",
    "test_dataset = preprocess_before_training(test_dataset)\n",
    "\n",
    "\n"
   ]
  },
  {
   "cell_type": "markdown",
   "metadata": {},
   "source": [
    "## Plotting the Signals for Patterns"
   ]
  },
  {
   "cell_type": "code",
   "execution_count": 23,
   "metadata": {},
   "outputs": [
    {
     "name": "stdout",
     "output_type": "stream",
     "text": [
      "(1998, 101, 1)\n",
      "tf.Tensor(0, shape=(), dtype=int32)\n",
      "(1998, 101, 1)\n",
      "tf.Tensor(0, shape=(), dtype=int32)\n",
      "(1998, 101, 1)\n",
      "tf.Tensor(1, shape=(), dtype=int32)\n",
      "(1998, 101, 1)\n",
      "tf.Tensor(1, shape=(), dtype=int32)\n",
      "(1998, 101, 1)\n",
      "tf.Tensor(1, shape=(), dtype=int32)\n"
     ]
    }
   ],
   "source": [
    "sample = combined_dataset.take(5)\n",
    "for data, label in sample:\n",
    "    spectrogram = data\n",
    "    #spectrogram = tf.expand_dims(spectrogram, axis=2)\n",
    "    print(data.shape)\n",
    "    print(label)\n",
    "    #print(label)\n",
    "    # Check for NaN values in data\n",
    "    #tf.debugging.check_numerics(data, \"NaN or Inf values in data\")\n",
    "    # Check for NaN values in labels\n",
    "    #tf.debugging.check_numerics(label, \"NaN or Inf values in labels\")"
   ]
  },
  {
   "cell_type": "markdown",
   "metadata": {},
   "source": [
    "## OUR CNN MODEL"
   ]
  },
  {
   "cell_type": "code",
   "execution_count": null,
   "metadata": {},
   "outputs": [],
   "source": [
    "from tensorflow.keras.models import Sequential\n",
    "from tensorflow.keras.layers import Conv2D, Dense, Flatten"
   ]
  },
  {
   "cell_type": "code",
   "execution_count": null,
   "metadata": {},
   "outputs": [],
   "source": [
    "model = Sequential()\n",
    "model.add(Conv2D(16, (3,3), activation='relu', input_shape=(1998, 101, 1) ))\n",
    "model.add(Conv2D(16, (3,3), activation='relu'))\n",
    "model.add(Flatten())\n",
    "model.add(Dense(128, activation='relu'))\n",
    "model.add(Dense(1, activation='sigmoid'))"
   ]
  },
  {
   "cell_type": "code",
   "execution_count": 24,
   "metadata": {},
   "outputs": [],
   "source": [
    "from tensorflow.keras import layers, models\n",
    "\n",
    "model = models.Sequential()\n",
    "\n",
    "# Convolutional layers\n",
    "model.add(layers.Conv2D(32, (3, 3), activation='relu', input_shape=(1998, 101, 1)))\n",
    "model.add(layers.MaxPooling2D((2, 2)))\n",
    "model.add(layers.Conv2D(64, (3, 3), activation='relu'))\n",
    "model.add(layers.MaxPooling2D((2, 2)))\n",
    "model.add(layers.Conv2D(128, (3, 3), activation='relu'))\n",
    "model.add(layers.MaxPooling2D((2, 2)))\n",
    "\n",
    "# Flatten layer\n",
    "model.add(layers.Flatten())\n",
    "\n",
    "# Dense layers\n",
    "model.add(layers.Dense(128, activation='relu'))\n",
    "model.add(layers.Dropout(0.5))  # Optional dropout for regularization\n",
    "model.add(layers.Dense(1, activation='sigmoid'))"
   ]
  },
  {
   "cell_type": "code",
   "execution_count": 25,
   "metadata": {},
   "outputs": [],
   "source": [
    "model.compile('Adam', loss='BinaryCrossentropy', metrics=[tf.keras.metrics.Recall(),tf.keras.metrics.Precision()])"
   ]
  },
  {
   "cell_type": "code",
   "execution_count": 26,
   "metadata": {},
   "outputs": [
    {
     "name": "stdout",
     "output_type": "stream",
     "text": [
      "Model: \"sequential\"\n",
      "_________________________________________________________________\n",
      "Layer (type)                 Output Shape              Param #   \n",
      "=================================================================\n",
      "conv2d (Conv2D)              (None, 1996, 99, 32)      320       \n",
      "_________________________________________________________________\n",
      "max_pooling2d (MaxPooling2D) (None, 998, 49, 32)       0         \n",
      "_________________________________________________________________\n",
      "conv2d_1 (Conv2D)            (None, 996, 47, 64)       18496     \n",
      "_________________________________________________________________\n",
      "max_pooling2d_1 (MaxPooling2 (None, 498, 23, 64)       0         \n",
      "_________________________________________________________________\n",
      "conv2d_2 (Conv2D)            (None, 496, 21, 128)      73856     \n",
      "_________________________________________________________________\n",
      "max_pooling2d_2 (MaxPooling2 (None, 248, 10, 128)      0         \n",
      "_________________________________________________________________\n",
      "flatten (Flatten)            (None, 317440)            0         \n",
      "_________________________________________________________________\n",
      "dense (Dense)                (None, 128)               40632448  \n",
      "_________________________________________________________________\n",
      "dropout (Dropout)            (None, 128)               0         \n",
      "_________________________________________________________________\n",
      "dense_1 (Dense)              (None, 1)                 129       \n",
      "=================================================================\n",
      "Total params: 40,725,249\n",
      "Trainable params: 40,725,249\n",
      "Non-trainable params: 0\n",
      "_________________________________________________________________\n"
     ]
    }
   ],
   "source": [
    "model.summary()"
   ]
  },
  {
   "cell_type": "code",
   "execution_count": 27,
   "metadata": {},
   "outputs": [
    {
     "name": "stdout",
     "output_type": "stream",
     "text": [
      "Epoch 1/4\n",
      "75/75 [==============================] - 164s 2s/step - loss: 32.5267 - recall: 0.6048 - precision: 0.6591 - val_loss: 0.5167 - val_recall: 0.8367 - val_precision: 0.7785\n",
      "Epoch 2/4\n",
      "75/75 [==============================] - 169s 2s/step - loss: 0.5564 - recall: 0.7565 - precision: 0.8450 - val_loss: 0.3751 - val_recall: 0.8435 - val_precision: 0.8552\n",
      "Epoch 3/4\n",
      "75/75 [==============================] - 169s 2s/step - loss: 0.3406 - recall: 0.8984 - precision: 0.9457 - val_loss: 0.4422 - val_recall: 0.5782 - val_precision: 0.9444\n",
      "Epoch 4/4\n",
      "75/75 [==============================] - 169s 2s/step - loss: 0.4279 - recall: 0.8145 - precision: 0.8647 - val_loss: 0.3670 - val_recall: 0.8231 - val_precision: 0.9680\n"
     ]
    }
   ],
   "source": [
    "hist = model.fit(train_dataset, epochs=4, validation_data=test_dataset)"
   ]
  },
  {
   "cell_type": "code",
   "execution_count": 28,
   "metadata": {},
   "outputs": [
    {
     "name": "stdout",
     "output_type": "stream",
     "text": [
      "[[0.14020663]]\n"
     ]
    }
   ],
   "source": [
    "print(model.predict(np.zeros((1, 1998, 101, 1))))"
   ]
  },
  {
   "cell_type": "code",
   "execution_count": 29,
   "metadata": {},
   "outputs": [
    {
     "data": {
      "image/png": "[encoded data removed]",
      "text/plain": [
       "<Figure size 640x480 with 1 Axes>"
      ]
     },
     "metadata": {},
     "output_type": "display_data"
    }
   ],
   "source": [
    "plt.title('Loss')\n",
    "plt.plot(hist.history['loss'], 'r')\n",
    "plt.plot(hist.history['val_loss'], 'b')\n",
    "plt.show()"
   ]
  },
  {
   "cell_type": "code",
   "execution_count": 30,
   "metadata": {},
   "outputs": [
    {
     "data": {
      "image/png": "[encoded data removed]",
      "text/plain": [
       "<Figure size 640x480 with 1 Axes>"
      ]
     },
     "metadata": {},
     "output_type": "display_data"
    }
   ],
   "source": [
    "plt.title('Log Loss')\n",
    "plt.semilogy(hist.history['loss'], 'r', label='Training Log Loss')\n",
    "plt.semilogy(hist.history['val_loss'], 'b', label='Validation Log Loss')\n",
    "plt.xlabel('Epoch')\n",
    "plt.ylabel('Log Loss')\n",
    "plt.legend()\n",
    "plt.show()"
   ]
  },
  {
   "cell_type": "code",
   "execution_count": 31,
   "metadata": {},
   "outputs": [
    {
     "data": {
      "image/png": "[encoded data removed]",
      "text/plain": [
       "<Figure size 640x480 with 1 Axes>"
      ]
     },
     "metadata": {},
     "output_type": "display_data"
    }
   ],
   "source": [
    "plt.title('Precision')\n",
    "plt.plot(hist.history['precision'], 'r')\n",
    "plt.plot(hist.history['val_precision'], 'b')\n",
    "plt.show()"
   ]
  },
  {
   "cell_type": "code",
   "execution_count": null,
   "metadata": {},
   "outputs": [],
   "source": [
    "plt.title('Recall')\n",
    "plt.plot(hist.history['recall'], 'r')\n",
    "plt.plot(hist.history['val_recall'], 'b')\n",
    "plt.show()"
   ]
  },
  {
   "cell_type": "code",
   "execution_count": null,
   "metadata": {},
   "outputs": [],
   "source": [
    "from tensorflow.keras.models import save_model"
   ]
  },
  {
   "cell_type": "code",
   "execution_count": 32,
   "metadata": {},
   "outputs": [
    {
     "name": "stdout",
     "output_type": "stream",
     "text": [
      "INFO:tensorflow:Assets written to: ./eagle_model\\assets\n"
     ]
    }
   ],
   "source": [
    "model.save('./eagle_model')"
   ]
  },
  {
   "cell_type": "code",
   "execution_count": null,
   "metadata": {},
   "outputs": [],
   "source": [
    "pos_spec = None\n",
    "for spec, label in validate_pos.take(5):\n",
    "    print(model.predict(tf.reshape(np.zeros(1998, 101), (1, 1998, 101, 1))))\n",
    "    print(label)"
   ]
  },
  {
   "cell_type": "code",
   "execution_count": 33,
   "metadata": {},
   "outputs": [
    {
     "name": "stdout",
     "output_type": "stream",
     "text": [
      "WARNING:tensorflow:FOR KERAS USERS: The object that you are saving contains one or more Keras models or layers. If you are loading the SavedModel with `tf.keras.models.load_model`, continue reading (otherwise, you may ignore the following instructions). Please change your code to save with `tf.keras.models.save_model` or `model.save`, and confirm that the file \"keras.metadata\" exists in the export directory. In the future, Keras will only load the SavedModels that have this file. In other words, `tf.saved_model.save` will no longer write SavedModels that can be recovered as Keras models (this will apply in TF 2.5).\n",
      "\n",
      "FOR DEVS: If you are overwriting _tracking_metadata in your class, this property has been used to save metadata in the SavedModel. The metadta field will be deprecated soon, so please move the metadata to a different file.\n",
      "INFO:tensorflow:Assets written to: ./saved_eagle\\assets\n"
     ]
    }
   ],
   "source": [
    "saved_model_path = './saved_eagle'\n",
    "\n",
    "# Load the trained model\n",
    "loaded_model = tf.keras.models.load_model('./eagle_model')\n",
    "\n",
    "# Save the loaded model\n",
    "tf.saved_model.save(loaded_model, saved_model_path)"
   ]
  },
  {
   "cell_type": "code",
   "execution_count": null,
   "metadata": {},
   "outputs": [],
   "source": [
    "import zipfile\n",
    "import os\n",
    "import librosa\n",
    "import numpy as np\n",
    "import matplotlib.pyplot as plt\n",
    "from sklearn.model_selection import train_test_split\n",
    "from sklearn.preprocessing import LabelEncoder\n",
    "from sklearn.metrics import accuracy_score, f1_score\n",
    "from sklearn.ensemble import GradientBoostingClassifier"
   ]
  },
  {
   "cell_type": "code",
   "execution_count": null,
   "metadata": {},
   "outputs": [],
   "source": [
    "#list of spectograms [] real fake\n",
    "list = np.concatenate((real_data, fake_data), axis=0)\n",
    "\n",
    "print(list.shape)\n",
    "\n",
    "labels = np.concatenate((np.ones((750,)), np.zeros((750,))))\n",
    "\n",
    "\n",
    "X_train, X_test, y_train, y_test = train_test_split(list, labels, test_size=0.2, random_state=42)\n",
    "\n",
    "print(X_train.shape)\n",
    "print(X_test.shape)"
   ]
  },
  {
   "cell_type": "code",
   "execution_count": null,
   "metadata": {},
   "outputs": [],
   "source": [
    "import matplotlib.pyplot as plt\n",
    "from sklearn.model_selection import train_test_split\n",
    "from sklearn.preprocessing import LabelEncoder\n",
    "from sklearn.metrics import accuracy_score, f1_score\n",
    "from sklearn.ensemble import GradientBoostingClassifier\n",
    "from tqdm import tqdm"
   ]
  },
  {
   "cell_type": "code",
   "execution_count": null,
   "metadata": {},
   "outputs": [],
   "source": [
    "# Create Gradient Boosting classifier\n",
    "model = GradientBoostingClassifier(verbose=1, random_state=42)"
   ]
  },
  {
   "cell_type": "code",
   "execution_count": null,
   "metadata": {},
   "outputs": [],
   "source": [
    "X_train_flat = X_train.reshape(X_train.shape[0], -1)\n",
    "X_test_flat = X_test.reshape(X_test.shape[0], -1)\n"
   ]
  },
  {
   "cell_type": "code",
   "execution_count": null,
   "metadata": {},
   "outputs": [],
   "source": [
    "\n",
    "model.fit(train_dataset, y_train)"
   ]
  }
 ],
 "metadata": {
  "kernelspec": {
   "display_name": "Python 3",
   "language": "python",
   "name": "python3"
  },
  "language_info": {
   "codemirror_mode": {
    "name": "ipython",
    "version": 3
   },
   "file_extension": ".py",
   "mimetype": "text/x-python",
   "name": "python",
   "nbconvert_exporter": "python",
   "pygments_lexer": "ipython3",
   "version": "3.8.0"
  }
 },
 "nbformat": 4,
 "nbformat_minor": 2
}
